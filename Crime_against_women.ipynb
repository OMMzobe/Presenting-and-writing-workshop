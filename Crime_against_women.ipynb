{
 "cells": [
  {
   "cell_type": "markdown",
   "id": "5cbb246a-dec0-4931-afba-c258897f049f",
   "metadata": {},
   "source": [
    "# Crimes Against Women in India (2001-2021) Analysis"
   ]
  },
  {
   "cell_type": "markdown",
   "id": "713fa938-6c4b-4715-89c7-9bd7f0f3a683",
   "metadata": {},
   "source": [
    "<div style=\"text-align: center;\">\n",
    "    <img src=\"https://media.cnn.com/api/v1/images/stellar/prod/230606221239-01-india-violence-against-women-protest-042823-file-restricted.jpg?q=w_1110,c_fill/f_webp\" />\n",
    "</div>"
   ]
  },
  {
   "cell_type": "markdown",
   "id": "9f5de066-0970-4e4d-8302-dd7a19602b36",
   "metadata": {},
   "source": [
    "<a id=\"cont></a>\"\n",
    "\n",
    "## Table of Contents\n",
    "\n",
    "* [1. Project Overview](#chapter1)\n",
    "  * [1.1 Introduction](#section_1_1)\n",
    "      * [1.1.1 Problem Statement](#sub_section_1_1_1)\n",
    "      * [1.1.2 Aim](#sub_section_1_1_2)\n",
    "      * [1.1.3 Objectives](#sub_section_1_1_3)      \n",
    "* [2. Importing Packages](#chapter2)\n",
    "* [3. Loading Data](#chapter3)\n",
    "* [4. Data Cleaning](#chapter4)\n",
    "* [5. Exploratory Data Analysis (EDA)](#chapter5)"
   ]
  },
  {
   "cell_type": "markdown",
   "id": "b0d578f4-36b7-4b86-876f-56eb74391366",
   "metadata": {},
   "source": [
    "# <font color=red>1. Project Overview</font>\n",
    "\n",
    "As a team, we have been instructed to choose a topic or a dataset (NOT BOTH) and compile our thoughts We have decided to choose a dataset on which we will present our analysis.\n",
    "\n",
    "## 1.1 Introduction\n",
    "\n",
    "Violence against women in India refers to physical or sexual violence committed against a woman, typically by a man. \r\n",
    "Common forms of violence against women in India include acts such as domestic abuse, sexual assault, and murder. There are several forms of violence against women, mured , female infanticide, sexual criem , acid throwing, perpetuaioni. \n",
    "\n",
    "The persistence of violence against women in India is deeply rooted in entrenched systems of sexism and patriarchy that permeate Indian culture. The cycle begins in early childhood, where young girls face unequal access to education compared to their male counterparts.\n",
    "\n",
    "As women progress into adulthood, the social climate continues to reinforce inequality, contributing to the prevalence of violence against them. Within the context of marriage, many women in India come to perceive violence as a routine aspect of their married lives. Those subjected to gender-based violence often face victim-shaming, being told that their safety is solely their responsibility and that any harm they endure is their own fault. Social and cultural beliefs, such as the importance of family honor, exert immense pressure on women to remain complicit in the face of abuse.\n",
    "\n",
    "### 1.1.1 Problem Statment\n",
    "emDespite legal and social advancements, violence against women in India remains a significant issue, deeply rooted in entrenched systems of sexism and patriarchy. Between 2001 and 2021, various forms of violence, including domestic abuse, sexual assault, acid attacks, and murder, have continued to impact women across the country. These forms of violence are perpetuated by cultural and social norms that promote gender inequality, beginning with unequal access to education in childhood and continuing into adulthood, where many women view violence as a normalized aspect of marriage. Furthermore, societal victim-shaming and the pressure to uphold family honor further inhibit women from seeking justice or support. Addressing this systemic issue requires a comprehensive analysis of the trends, causes, and consequences of crimes against women in India over the two-decade period, with the goal of informing effective strategies for prevention and support.\n",
    "\n",
    "### 1.1. Aim\n",
    "2 The aim of this project is to conduct a comprehensive analysis of crimes against women in India from 2001 to 2021, with a focus on identifying trends, underlying causes, and societal factors contributing to gender-based violence .By examining data over two decades, the project seeks to provide insights into the prevalence and forms of violence, explore the impact of cultural and social norms, and highlight the gaps in policy and protection mechanisms.\n",
    "\n",
    "### 1.1.3 Objecives\n",
    "teData Analysis: To collect and analyze crime data related to violence against women in India between 2001 and 2021, identifying key trends, regional disparities, and the most prevalent forms of violence\n",
    "- yExamine Societal and Cultural Factors: To explore the role of entrenched societal and cultural norms, such as sexism, patriarchy, and victim-shaming, in perpetuating violence against wome.\n",
    "- sImpact Assessment: To assess the impact of gender-based violence on women's physical, mental, and social well-being, as well as its broader implications for society\n",
    "- eRecommendations: To propose actionable recommendations and interventions for government bodies, NGOs, and community organizations, with the goal of reducing violence against women and fostering gender equality."
   ]
  },
  {
   "cell_type": "markdown",
   "id": "25d17c68-b221-43c5-8288-4012e5a03c87",
   "metadata": {},
   "source": [
    "# <font color=red>2. Importing Packages</font>"
   ]
  },
  {
   "cell_type": "markdown",
   "id": "7a16e514-63f8-48b2-8600-a0ebe78e385d",
   "metadata": {},
   "source": [
    "<div class=\"alert alert-block alert-info\">\n",
    "<b>Package Imports </b>  Package imports refer to the process of including external libraries and modules in your code. These packages provide additional functionality and tools that are not available in the standard library, enabling more efficient and effective coding for tasks such as data manipulation, visualization, and machine learning.\n",
    "</div>"
   ]
  },
  {
   "cell_type": "code",
   "execution_count": 3,
   "id": "05c47d1a-58ce-4ccc-af19-f3cd00b38256",
   "metadata": {},
   "outputs": [],
   "source": [
    "# Importing packages\n",
    "import pandas as pd\n",
    "import numpy as np\n",
    "import matplotlib.pyplot as plt\n",
    "import seaborn as sns\n",
    "import warnings\n",
    "from sklearn.preprocessing import StandardScaler\n",
    "\n",
    "# Suppress all warnings\n",
    "warnings.filterwarnings('ignore')"
   ]
  },
  {
   "cell_type": "markdown",
   "id": "2f5f57f7-a380-4b8b-9a08-009fc8e75d4a",
   "metadata": {},
   "source": [
    "# <font color=red>3. Data Loading </font>"
   ]
  },
  {
   "cell_type": "markdown",
   "id": "284c0e3d-767b-4117-a242-cd3ed0603e21",
   "metadata": {},
   "source": [
    "<div class=\"alert alert-block alert-info\">\n",
    "<b>Data Loading </b>  refers to the process of importing data into a workspace to make it ready for analysis. It involves reading data from various sources, such as files, databases, or APIs, and converting it into a format suitable for processing and analysis.\n",
    "</div>"
   ]
  },
  {
   "cell_type": "code",
   "execution_count": 5,
   "id": "75dd963c-b831-492b-bc03-b9601a0cdd61",
   "metadata": {},
   "outputs": [],
   "source": [
    "#Create a dataframe and load the data \n",
    "crime_df = pd.read_csv(\"CrimesOnWomenData.csv\")\n"
   ]
  },
  {
   "cell_type": "code",
   "execution_count": 7,
   "id": "49b70e29-3446-4d5e-816e-558076a84ec2",
   "metadata": {},
   "outputs": [
    {
     "name": "stdout",
     "output_type": "stream",
     "text": [
      "\n",
      " Crime dataframe:\n",
      "     Unnamed: 0              State  Year  Rape   K&A   DD   AoW   AoM    DV  \\\n",
      "0             0     ANDHRA PRADESH  2001   871   765  420  3544  2271  5791   \n",
      "1             1  ARUNACHAL PRADESH  2001    33    55    0    78     3    11   \n",
      "2             2              ASSAM  2001   817  1070   59   850     4  1248   \n",
      "3             3              BIHAR  2001   888   518  859   562    21  1558   \n",
      "4             4       CHHATTISGARH  2001   959   171   70  1763   161   840   \n",
      "..          ...                ...   ...   ...   ...  ...   ...   ...   ...   \n",
      "731         731         D&N Haveli  2021  1250  4083  141  2068   417  4731   \n",
      "732         732        Daman & Diu  2021   315   904   16  1851    10   501   \n",
      "733         733           Delhi UT  2021     2     1    0     5     1     9   \n",
      "734         734        Lakshadweep  2021     0     0    0     1     1     3   \n",
      "735         735         Puducherry  2021     2     0    2    31     3    12   \n",
      "\n",
      "     WT  \n",
      "0     7  \n",
      "1     0  \n",
      "2     0  \n",
      "3    83  \n",
      "4     0  \n",
      "..   ..  \n",
      "731   4  \n",
      "732   1  \n",
      "733   0  \n",
      "734   0  \n",
      "735   0  \n",
      "\n",
      "[736 rows x 10 columns]\n"
     ]
    }
   ],
   "source": [
    "#Show what data the dataframe consists of \n",
    "print(\"\\n Crime dataframe:\")\n",
    "print(crime_df)"
   ]
  },
  {
   "cell_type": "markdown",
   "id": "5c8d8a89-d06e-463a-8596-8b8f24cee8ae",
   "metadata": {},
   "source": [
    "# <font color=red>4. Data Cleaning </font>"
   ]
  },
  {
   "cell_type": "markdown",
   "id": "3bf3bbda-8400-4590-aba2-b6657ec7b9c6",
   "metadata": {},
   "source": [
    "<div class=\"alert alert-block alert-info\">\n",
    "<b>Data cleaning</b>  refers to the process of identifying and correcting errors, inconsistencies, and inaccuracies in a dataset to improve its quality and reliability for analysis. It involves several steps, including handling missing or incomplete data, correcting data format issues, removing duplicate records, and dealing with outliers or anomalies.\n",
    "</div>"
   ]
  },
  {
   "cell_type": "code",
   "execution_count": 8,
   "id": "9ded27d2-60b0-43a7-9847-44f9153825e5",
   "metadata": {},
   "outputs": [
    {
     "name": "stdout",
     "output_type": "stream",
     "text": [
      "<class 'pandas.core.frame.DataFrame'>\n",
      "RangeIndex: 736 entries, 0 to 735\n",
      "Data columns (total 10 columns):\n",
      " #   Column      Non-Null Count  Dtype \n",
      "---  ------      --------------  ----- \n",
      " 0   Unnamed: 0  736 non-null    int64 \n",
      " 1   State       736 non-null    object\n",
      " 2   Year        736 non-null    int64 \n",
      " 3   Rape        736 non-null    int64 \n",
      " 4   K&A         736 non-null    int64 \n",
      " 5   DD          736 non-null    int64 \n",
      " 6   AoW         736 non-null    int64 \n",
      " 7   AoM         736 non-null    int64 \n",
      " 8   DV          736 non-null    int64 \n",
      " 9   WT          736 non-null    int64 \n",
      "dtypes: int64(9), object(1)\n",
      "memory usage: 57.6+ KB\n"
     ]
    }
   ],
   "source": [
    "# display a concise summary of the DataFrame\n",
    "crime_df.info()"
   ]
  },
  {
   "cell_type": "code",
   "execution_count": 9,
   "id": "2ad7bb2f-45ef-4fe5-983b-1b269cdb7323",
   "metadata": {},
   "outputs": [],
   "source": [
    "# Remove the 'Unnamed: 0' column from the dataframe\n",
    "crime_df = crime_df.drop(columns=['Unnamed: 0'])\n"
   ]
  },
  {
   "cell_type": "code",
   "execution_count": 10,
   "id": "1b750238-c2c3-4271-9ff1-c730918b5668",
   "metadata": {},
   "outputs": [
    {
     "data": {
      "text/html": [
       "<div>\n",
       "<style scoped>\n",
       "    .dataframe tbody tr th:only-of-type {\n",
       "        vertical-align: middle;\n",
       "    }\n",
       "\n",
       "    .dataframe tbody tr th {\n",
       "        vertical-align: top;\n",
       "    }\n",
       "\n",
       "    .dataframe thead th {\n",
       "        text-align: right;\n",
       "    }\n",
       "</style>\n",
       "<table border=\"1\" class=\"dataframe\">\n",
       "  <thead>\n",
       "    <tr style=\"text-align: right;\">\n",
       "      <th></th>\n",
       "      <th>State</th>\n",
       "      <th>Year</th>\n",
       "      <th>Rape</th>\n",
       "      <th>K&amp;A</th>\n",
       "      <th>DD</th>\n",
       "      <th>AoW</th>\n",
       "      <th>AoM</th>\n",
       "      <th>DV</th>\n",
       "      <th>WT</th>\n",
       "    </tr>\n",
       "  </thead>\n",
       "  <tbody>\n",
       "    <tr>\n",
       "      <th>0</th>\n",
       "      <td>ANDHRA PRADESH</td>\n",
       "      <td>2001</td>\n",
       "      <td>871</td>\n",
       "      <td>765</td>\n",
       "      <td>420</td>\n",
       "      <td>3544</td>\n",
       "      <td>2271</td>\n",
       "      <td>5791</td>\n",
       "      <td>7</td>\n",
       "    </tr>\n",
       "    <tr>\n",
       "      <th>1</th>\n",
       "      <td>ARUNACHAL PRADESH</td>\n",
       "      <td>2001</td>\n",
       "      <td>33</td>\n",
       "      <td>55</td>\n",
       "      <td>0</td>\n",
       "      <td>78</td>\n",
       "      <td>3</td>\n",
       "      <td>11</td>\n",
       "      <td>0</td>\n",
       "    </tr>\n",
       "    <tr>\n",
       "      <th>2</th>\n",
       "      <td>ASSAM</td>\n",
       "      <td>2001</td>\n",
       "      <td>817</td>\n",
       "      <td>1070</td>\n",
       "      <td>59</td>\n",
       "      <td>850</td>\n",
       "      <td>4</td>\n",
       "      <td>1248</td>\n",
       "      <td>0</td>\n",
       "    </tr>\n",
       "    <tr>\n",
       "      <th>3</th>\n",
       "      <td>BIHAR</td>\n",
       "      <td>2001</td>\n",
       "      <td>888</td>\n",
       "      <td>518</td>\n",
       "      <td>859</td>\n",
       "      <td>562</td>\n",
       "      <td>21</td>\n",
       "      <td>1558</td>\n",
       "      <td>83</td>\n",
       "    </tr>\n",
       "    <tr>\n",
       "      <th>4</th>\n",
       "      <td>CHHATTISGARH</td>\n",
       "      <td>2001</td>\n",
       "      <td>959</td>\n",
       "      <td>171</td>\n",
       "      <td>70</td>\n",
       "      <td>1763</td>\n",
       "      <td>161</td>\n",
       "      <td>840</td>\n",
       "      <td>0</td>\n",
       "    </tr>\n",
       "  </tbody>\n",
       "</table>\n",
       "</div>"
      ],
      "text/plain": [
       "               State  Year  Rape   K&A   DD   AoW   AoM    DV  WT\n",
       "0     ANDHRA PRADESH  2001   871   765  420  3544  2271  5791   7\n",
       "1  ARUNACHAL PRADESH  2001    33    55    0    78     3    11   0\n",
       "2              ASSAM  2001   817  1070   59   850     4  1248   0\n",
       "3              BIHAR  2001   888   518  859   562    21  1558  83\n",
       "4       CHHATTISGARH  2001   959   171   70  1763   161   840   0"
      ]
     },
     "execution_count": 10,
     "metadata": {},
     "output_type": "execute_result"
    }
   ],
   "source": [
    "# Verify the changes\n",
    "crime_df.head()"
   ]
  },
  {
   "cell_type": "code",
   "execution_count": 11,
   "id": "f3a3c762-9958-4d98-aff7-8ebee66d594b",
   "metadata": {},
   "outputs": [
    {
     "name": "stdout",
     "output_type": "stream",
     "text": [
      "Missing values in each column:\n",
      "State    0\n",
      "Year     0\n",
      "Rape     0\n",
      "K&A      0\n",
      "DD       0\n",
      "AoW      0\n",
      "AoM      0\n",
      "DV       0\n",
      "WT       0\n",
      "dtype: int64\n"
     ]
    }
   ],
   "source": [
    "# Check for missing values in each column\n",
    "missing_values = crime_df.isnull().sum()\n",
    "\n",
    "# Display the missing values count for each column\n",
    "print(\"Missing values in each column:\")\n",
    "print(missing_values)"
   ]
  },
  {
   "cell_type": "code",
   "execution_count": 12,
   "id": "590277fd-1c01-4acf-ab0c-d231c2cc6bc7",
   "metadata": {},
   "outputs": [
    {
     "name": "stdout",
     "output_type": "stream",
     "text": [
      "\n",
      "Number of duplicate rows: 0\n"
     ]
    }
   ],
   "source": [
    "# Check for duplicate rows in the dataframe\n",
    "duplicate_values = crime_df.duplicated().sum()\n",
    "\n",
    "# Display the number of duplicate rows\n",
    "print(f\"\\nNumber of duplicate rows: {duplicate_values}\")\n"
   ]
  },
  {
   "cell_type": "code",
   "execution_count": 13,
   "id": "21f0f300-334d-4e5e-8eb1-8d2a6a979796",
   "metadata": {},
   "outputs": [
    {
     "name": "stdout",
     "output_type": "stream",
     "text": [
      "               State  Year  No. of Rape Cases  Kidnap and Assault  \\\n",
      "0     ANDHRA PRADESH  2001                871                 765   \n",
      "1  ARUNACHAL PRADESH  2001                 33                  55   \n",
      "2              ASSAM  2001                817                1070   \n",
      "3              BIHAR  2001                888                 518   \n",
      "4       CHHATTISGARH  2001                959                 171   \n",
      "\n",
      "   Dowry Deaths  Assault against Women  Assault against Modesty of Women  \\\n",
      "0           420                   3544                              2271   \n",
      "1             0                     78                                 3   \n",
      "2            59                    850                                 4   \n",
      "3           859                    562                                21   \n",
      "4            70                   1763                               161   \n",
      "\n",
      "   Domestic Violence  Women Trafficking  \n",
      "0               5791                  7  \n",
      "1                 11                  0  \n",
      "2               1248                  0  \n",
      "3               1558                 83  \n",
      "4                840                  0  \n"
     ]
    }
   ],
   "source": [
    "# Define the new column names\n",
    "new_column_names = ['State', 'Year', 'No. of Rape Cases', 'Kidnap and Assault', 'Dowry Deaths', \n",
    "                    'Assault against Women', 'Assault against Modesty of Women', 'Domestic Violence', 'Women Trafficking']\n",
    "\n",
    "# Assign the new column names to the dataframe\n",
    "crime_df.columns = new_column_names\n",
    "\n",
    "# Verify the changes\n",
    "print(crime_df.head())\n"
   ]
  },
  {
   "cell_type": "markdown",
   "id": "316e2021-d763-45e2-b046-abcefffb95f3",
   "metadata": {},
   "source": [
    "# <font color=red>5. EXPLORATORY DATA ANALYSIS (EDA)</font>"
   ]
  },
  {
   "cell_type": "markdown",
   "id": "406585cc-b2b3-43c0-a442-bca88e642c8b",
   "metadata": {},
   "source": [
    "<div class=\"alert alert-block alert-info\">\n",
    "<b>Exploratory Data Analysis</b>  Exploratory Data Analysis (EDA) involves examining and visualizing data to uncover patterns, trends, and relationships. It helps in understanding the dataset's structure, detecting anomalies, and generating insights that guide further analysis.\n",
    "</div>"
   ]
  },
  {
   "cell_type": "code",
   "execution_count": null,
   "id": "0a651332-1093-4f29-aecb-96f182ca3f60",
   "metadata": {},
   "outputs": [],
   "source": []
  }
 ],
 "metadata": {
  "kernelspec": {
   "display_name": "Python 3 (ipykernel)",
   "language": "python",
   "name": "python3"
  },
  "language_info": {
   "codemirror_mode": {
    "name": "ipython",
    "version": 3
   },
   "file_extension": ".py",
   "mimetype": "text/x-python",
   "name": "python",
   "nbconvert_exporter": "python",
   "pygments_lexer": "ipython3",
   "version": "3.11.5"
  }
 },
 "nbformat": 4,
 "nbformat_minor": 5
}
